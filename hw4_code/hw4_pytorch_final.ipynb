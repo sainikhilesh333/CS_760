{
  "nbformat": 4,
  "nbformat_minor": 0,
  "metadata": {
    "colab": {
      "provenance": []
    },
    "kernelspec": {
      "name": "python3",
      "display_name": "Python 3"
    },
    "language_info": {
      "name": "python"
    },
    "accelerator": "GPU"
  },
  "cells": [
    {
      "cell_type": "code",
      "metadata": {
        "id": "GN6n9zuSoJQX"
      },
      "source": [
        "import torch\n",
        "import torch.nn as nn\n",
        "from torchvision import datasets, transforms\n",
        "import torch.optim as optim\n",
        "import torch.nn.functional as F\n",
        "import numpy as np\n",
        "import matplotlib.pyplot as plt\n",
        "\n",
        "from torch.utils.data.sampler import SubsetRandomSampler"
      ],
      "execution_count": 3,
      "outputs": []
    },
    {
      "cell_type": "markdown",
      "metadata": {
        "id": "QIHuXEllqQVC"
      },
      "source": [
        "## Define Neural Network class\n"
      ]
    },
    {
      "cell_type": "code",
      "metadata": {
        "id": "Zc-IKYzR1sKF"
      },
      "source": [
        "class NeuralNetwork(nn.Module):\n",
        "  def __init__(self):\n",
        "    super(NeuralNetwork,self).__init__()\n",
        "\n",
        "    self.fc1 = nn.Linear(784,300,bias=False)\n",
        "    self.fc2 = nn.Linear(300,200,bias=False)\n",
        "    self.fc3 = nn.Linear(200,10,bias=False)\n",
        "    self.sigmoid = nn.Sigmoid()\n",
        "\n",
        "  def forward(self,x):\n",
        "    x = x.view(-1, 28 * 28)\n",
        "    x = self.sigmoid(self.fc1(x))\n",
        "    x = self.fc2(x)\n",
        "    x = self.fc3(x)\n",
        "\n",
        "    \n",
        "    return x\n",
        "\n",
        "\n",
        "\n"
      ],
      "execution_count": 4,
      "outputs": []
    },
    {
      "cell_type": "markdown",
      "metadata": {
        "id": "CIJpTBI8qT6S"
      },
      "source": [
        "## Get MNIST dataset\n"
      ]
    },
    {
      "cell_type": "code",
      "metadata": {
        "id": "Bv4A-9WS6H2N"
      },
      "source": [
        "transform=transforms.Compose([\n",
        "        transforms.ToTensor(),\n",
        "        transforms.Normalize((0.1307,), (0.3081,))\n",
        "        ])\n",
        "\n",
        "mnist_train = datasets.MNIST('../data', train=True, download=True,\n",
        "                    transform=transform)\n",
        "mnist_test = datasets.MNIST('../data', train=False, download=True,\n",
        "                    transform=transform)\n",
        "\n"
      ],
      "execution_count": 5,
      "outputs": []
    },
    {
      "cell_type": "code",
      "metadata": {
        "id": "wJJsU8I66DlN"
      },
      "source": [
        "valid_ratio = 0.2\n",
        "train_data_len = len(mnist_train)\n",
        "indices = list(range(train_data_len))\n",
        "np.random.shuffle(indices)\n",
        "train_valid_split = int(np.floor(valid_ratio * train_data_len))\n",
        "train_index, valid_index = indices[train_valid_split:], indices[:train_valid_split]\n",
        "\n"
      ],
      "execution_count": 6,
      "outputs": []
    },
    {
      "cell_type": "markdown",
      "metadata": {
        "id": "wjLoZ5Q8qWqI"
      },
      "source": [
        "## Initialize dataloaders\n"
      ]
    },
    {
      "cell_type": "code",
      "metadata": {
        "id": "ukoZFJAI6apw"
      },
      "source": [
        "train_sampler = SubsetRandomSampler(train_index)\n",
        "valid_sampler = SubsetRandomSampler(valid_index)\n",
        "# prepare data loaders\n",
        "train_loader = torch.utils.data.DataLoader(mnist_train, batch_size=64,  sampler=train_sampler)\n",
        "valid_loader = torch.utils.data.DataLoader(mnist_train, batch_size=64, sampler=valid_sampler)\n",
        "test_loader = torch.utils.data.DataLoader(mnist_test,batch_size=64)\n"
      ],
      "execution_count": 7,
      "outputs": []
    },
    {
      "cell_type": "code",
      "metadata": {
        "id": "IP9Yxk4x7mas"
      },
      "source": [
        "def compute_accuracy(output, ground_truth):\n",
        "    class_correct = 0\n",
        "    class_total = 0\n",
        "    batch_size = output.size(0)\n",
        "    _, prediction = torch.max(output, 1)\n",
        "    # compare predictions to true label\n",
        "    correct = np.squeeze(prediction.eq(ground_truth.data.view_as(prediction)))\n",
        "    # calculate test accuracy for each object class\n",
        "    for i in range(batch_size):\n",
        "        label = ground_truth.data[i]\n",
        "        class_correct += correct[i].item()\n",
        "        class_total += 1\n",
        "    return class_correct, class_total"
      ],
      "execution_count": 8,
      "outputs": []
    },
    {
      "cell_type": "markdown",
      "metadata": {
        "id": "F92S9nAmqZ7v"
      },
      "source": [
        "## Initialize Model and Optimizer\n"
      ]
    },
    {
      "cell_type": "markdown",
      "source": [
        "#SGD"
      ],
      "metadata": {
        "id": "wIv7JThQFXSM"
      }
    },
    {
      "cell_type": "code",
      "metadata": {
        "id": "wBit8ROy7T49"
      },
      "source": [
        "model = NeuralNetwork().cuda()\n",
        "optimizer = optim.SGD(model.parameters(), lr=0.01)"
      ],
      "execution_count": 9,
      "outputs": []
    },
    {
      "cell_type": "markdown",
      "metadata": {
        "id": "hk6HktqaqcfF"
      },
      "source": [
        "## Training Loop"
      ]
    },
    {
      "cell_type": "code",
      "metadata": {
        "id": "_Jrts5Fz4Zz8",
        "colab": {
          "base_uri": "https://localhost:8080/"
        },
        "outputId": "03e046a1-2928-456f-87cf-e7177d00f357"
      },
      "source": [
        "train_loss_list = []\n",
        "train_loss_epoch_list = []\n",
        "\n",
        "valid_loss_list = []\n",
        "valid_loss_epoch_list = []\n",
        "train_accuracy_list = []\n",
        "valid_accuracy_list = []\n",
        "\n",
        "for epoch in range(0, 30):\n",
        "    train_loss = 0.0\n",
        "    valid_loss = 0.0\n",
        "    criterion = nn.CrossEntropyLoss()\n",
        "    model.train()\n",
        "    total_train_correct = 0\n",
        "    total_train = 0\n",
        "    total_valid_correct = 0\n",
        "    total_valid = 0\n",
        "\n",
        "    for batch_idx, batch in enumerate(train_loader):\n",
        "        \n",
        "        input, ground_truth = batch\n",
        "        batch_size = input.size(0)\n",
        "        input = input.cuda()\n",
        "        ground_truth = ground_truth.cuda()\n",
        "        \n",
        "        optimizer.zero_grad()\n",
        "        output = model(input)\n",
        "        \n",
        "        \n",
        "        loss = criterion(output, ground_truth)\n",
        "        loss.backward()\n",
        "        optimizer.step()\n",
        "        train_loss += loss.item()*input.size(0)\n",
        "        train_correct, train_size = compute_accuracy(output, ground_truth)\n",
        "        total_train_correct += train_correct\n",
        "        total_train += train_size\n",
        "        train_loss_list.append(loss)\n",
        "\n",
        "    if epoch%5 == 0:\n",
        "      model.eval()  # prep model for evaluation\n",
        "      for batch_idx, batch in enumerate(valid_loader):\n",
        "          val_input, ground_truth = batch\n",
        "          val_input = val_input.cuda()\n",
        "          ground_truth = ground_truth.cuda()\n",
        "          \n",
        "          # forward pass: compute predicted outputs by passing inputs to the model\n",
        "          output = model(val_input)\n",
        "          # calculate the loss\n",
        "          loss = criterion(output,ground_truth)\n",
        "          # update running validation loss \n",
        "          valid_loss += loss.item() * input.size(0)\n",
        "          valid_correct, valid_size = compute_accuracy(output, ground_truth)\n",
        "          total_valid_correct += valid_correct\n",
        "          total_valid += valid_size\n",
        "          valid_loss_list.append(loss)\n",
        "      valid_loss = valid_loss/len(valid_loader.dataset)\n",
        "      valid_accuracy = np.sum(total_valid_correct) / np.sum(total_valid)\n",
        "      valid_loss_epoch_list.append(valid_loss)   \n",
        "      valid_accuracy_list.append(valid_accuracy)\n",
        "\n",
        "    \n",
        "\n",
        "    train_loss = train_loss/len(train_loader.dataset)\n",
        "    train_accuracy = np.sum(total_train_correct) / np.sum(total_train)\n",
        "    train_loss_epoch_list.append(train_loss)\n",
        "    train_accuracy_list.append(train_accuracy)\n",
        "    \n",
        "\n",
        "\n",
        "    print(\"********************************************************************\")\n",
        "    print(\"Epoch \"+str(epoch))\n",
        "    print(\"Train loss: \"+str(train_loss))\n",
        "    print(\"Train accuracy: \"+str(train_accuracy))\n",
        "    if epoch%5 == 0: \n",
        "      print(\"Valid loss: \"+str(valid_loss))\n",
        "      print(\"Valid Accuracy: \"+str(valid_accuracy))\n",
        "    \n",
        "    print(\"********************************************************************\")\n",
        "\n",
        "\n",
        "\n",
        "torch.save(model.state_dict(), \"mnist_mlp.pt\")"
      ],
      "execution_count": 10,
      "outputs": [
        {
          "output_type": "stream",
          "name": "stdout",
          "text": [
            "********************************************************************\n",
            "Epoch 0\n",
            "Train loss: 1.2735712157567343\n",
            "Train accuracy: 0.6204375\n",
            "Valid loss: 0.16952029863993326\n",
            "Valid Accuracy: 0.8074166666666667\n",
            "********************************************************************\n",
            "********************************************************************\n",
            "Epoch 1\n",
            "Train loss: 0.4942442518234253\n",
            "Train accuracy: 0.8452291666666667\n",
            "********************************************************************\n",
            "********************************************************************\n",
            "Epoch 2\n",
            "Train loss: 0.3468940513134003\n",
            "Train accuracy: 0.8814166666666666\n",
            "********************************************************************\n",
            "********************************************************************\n",
            "Epoch 3\n",
            "Train loss: 0.2986957718849182\n",
            "Train accuracy: 0.8948125\n",
            "********************************************************************\n",
            "********************************************************************\n",
            "Epoch 4\n",
            "Train loss: 0.2741981580575307\n",
            "Train accuracy: 0.9016458333333334\n",
            "********************************************************************\n",
            "********************************************************************\n",
            "Epoch 5\n",
            "Train loss: 0.25814883046150205\n",
            "Train accuracy: 0.9067708333333333\n",
            "Valid loss: 0.06326849163373312\n",
            "Valid Accuracy: 0.909\n",
            "********************************************************************\n",
            "********************************************************************\n",
            "Epoch 6\n",
            "Train loss: 0.24623736536502838\n",
            "Train accuracy: 0.9112708333333334\n",
            "********************************************************************\n",
            "********************************************************************\n",
            "Epoch 7\n",
            "Train loss: 0.2365589167992274\n",
            "Train accuracy: 0.9147916666666667\n",
            "********************************************************************\n",
            "********************************************************************\n",
            "Epoch 8\n",
            "Train loss: 0.22859859193960824\n",
            "Train accuracy: 0.9174791666666666\n",
            "********************************************************************\n",
            "********************************************************************\n",
            "Epoch 9\n",
            "Train loss: 0.22101264797051748\n",
            "Train accuracy: 0.9200833333333334\n",
            "********************************************************************\n",
            "********************************************************************\n",
            "Epoch 10\n",
            "Train loss: 0.2142545950015386\n",
            "Train accuracy: 0.9229375\n",
            "Valid loss: 0.0540790207862854\n",
            "Valid Accuracy: 0.921\n",
            "********************************************************************\n",
            "********************************************************************\n",
            "Epoch 11\n",
            "Train loss: 0.20759692070484162\n",
            "Train accuracy: 0.9255833333333333\n",
            "********************************************************************\n",
            "********************************************************************\n",
            "Epoch 12\n",
            "Train loss: 0.20142069752613703\n",
            "Train accuracy: 0.9275416666666667\n",
            "********************************************************************\n",
            "********************************************************************\n",
            "Epoch 13\n",
            "Train loss: 0.19517546230157215\n",
            "Train accuracy: 0.929625\n",
            "********************************************************************\n",
            "********************************************************************\n",
            "Epoch 14\n",
            "Train loss: 0.188973661561807\n",
            "Train accuracy: 0.9322916666666666\n",
            "********************************************************************\n",
            "********************************************************************\n",
            "Epoch 15\n",
            "Train loss: 0.1830991540312767\n",
            "Train accuracy: 0.9348541666666667\n",
            "Valid loss: 0.04733386443853378\n",
            "Valid Accuracy: 0.9315833333333333\n",
            "********************************************************************\n",
            "********************************************************************\n",
            "Epoch 16\n",
            "Train loss: 0.17716096568902334\n",
            "Train accuracy: 0.9372708333333334\n",
            "********************************************************************\n",
            "********************************************************************\n",
            "Epoch 17\n",
            "Train loss: 0.1716940513809522\n",
            "Train accuracy: 0.93875\n",
            "********************************************************************\n",
            "********************************************************************\n",
            "Epoch 18\n",
            "Train loss: 0.16586351701418559\n",
            "Train accuracy: 0.9414166666666667\n",
            "********************************************************************\n",
            "********************************************************************\n",
            "Epoch 19\n",
            "Train loss: 0.1605878394563993\n",
            "Train accuracy: 0.9436458333333333\n",
            "********************************************************************\n",
            "********************************************************************\n",
            "Epoch 20\n",
            "Train loss: 0.15533587387800216\n",
            "Train accuracy: 0.9454375\n",
            "Valid loss: 0.04134359220266342\n",
            "Valid Accuracy: 0.939\n",
            "********************************************************************\n",
            "********************************************************************\n",
            "Epoch 21\n",
            "Train loss: 0.15064518341223399\n",
            "Train accuracy: 0.9466458333333333\n",
            "********************************************************************\n",
            "********************************************************************\n",
            "Epoch 22\n",
            "Train loss: 0.14574313733180363\n",
            "Train accuracy: 0.9483333333333334\n",
            "********************************************************************\n",
            "********************************************************************\n",
            "Epoch 23\n",
            "Train loss: 0.14135622397065162\n",
            "Train accuracy: 0.9501458333333334\n",
            "********************************************************************\n",
            "********************************************************************\n",
            "Epoch 24\n",
            "Train loss: 0.13696087112029393\n",
            "Train accuracy: 0.9513333333333334\n",
            "********************************************************************\n",
            "********************************************************************\n",
            "Epoch 25\n",
            "Train loss: 0.13284209146896997\n",
            "Train accuracy: 0.952875\n",
            "Valid loss: 0.036492734253406524\n",
            "Valid Accuracy: 0.946\n",
            "********************************************************************\n",
            "********************************************************************\n",
            "Epoch 26\n",
            "Train loss: 0.12875265065828959\n",
            "Train accuracy: 0.9549791666666667\n",
            "********************************************************************\n",
            "********************************************************************\n",
            "Epoch 27\n",
            "Train loss: 0.12490094419717788\n",
            "Train accuracy: 0.9556875\n",
            "********************************************************************\n",
            "********************************************************************\n",
            "Epoch 28\n",
            "Train loss: 0.12132893446087838\n",
            "Train accuracy: 0.9575625\n",
            "********************************************************************\n",
            "********************************************************************\n",
            "Epoch 29\n",
            "Train loss: 0.11780292715628941\n",
            "Train accuracy: 0.9589375\n",
            "********************************************************************\n"
          ]
        }
      ]
    },
    {
      "cell_type": "code",
      "metadata": {
        "id": "YVEdK9mROJE1",
        "colab": {
          "base_uri": "https://localhost:8080/",
          "height": 295
        },
        "outputId": "9e7c4734-af41-4ef6-f980-fd81713ec784"
      },
      "source": [
        "plt.plot(np.arange(0,len(train_loss_epoch_list)),train_loss_epoch_list)\n",
        "plt.title(\"Pytorch - #Epochs vs Train Loss - MNIST\")\n",
        "plt.xlabel(\"Epochs\")\n",
        "plt.ylabel(\"Train Loss\")\n",
        "plt.savefig(\"pytorch_train_loss.pdf\")"
      ],
      "execution_count": 11,
      "outputs": [
        {
          "output_type": "display_data",
          "data": {
            "text/plain": [
              "<Figure size 432x288 with 1 Axes>"
            ],
            "image/png": "[encoded data removed]"
          },
          "metadata": {
            "needs_background": "light"
          }
        }
      ]
    },
    {
      "cell_type": "code",
      "source": [
        "valid_loss_epoch_list"
      ],
      "metadata": {
        "colab": {
          "base_uri": "https://localhost:8080/"
        },
        "id": "NIvpkpieQVJc",
        "outputId": "12c8e8c6-2aed-423e-9f5e-47e72d75c48e"
      },
      "execution_count": 14,
      "outputs": [
        {
          "output_type": "execute_result",
          "data": {
            "text/plain": [
              "[0.16952029863993326,\n",
              " 0.06326849163373312,\n",
              " 0.0540790207862854,\n",
              " 0.04733386443853378,\n",
              " 0.04134359220266342,\n",
              " 0.036492734253406524]"
            ]
          },
          "metadata": {},
          "execution_count": 14
        }
      ]
    },
    {
      "cell_type": "code",
      "metadata": {
        "id": "47Y6sCUjPKtz",
        "colab": {
          "base_uri": "https://localhost:8080/",
          "height": 295
        },
        "outputId": "0714ddfb-a754-4382-d8c0-8687d03fa7c7"
      },
      "source": [
        "plt.plot(np.arange(0,100,17),valid_loss_epoch_list)\n",
        "plt.title(\"Pytorch - #Epochs vs Valid Loss - MNIST\")\n",
        "plt.xlabel(\"Epochs\")\n",
        "plt.ylabel(\"Valid Loss\")\n",
        "plt.savefig(\"pytorch_valid_loss.pdf\")"
      ],
      "execution_count": 16,
      "outputs": [
        {
          "output_type": "display_data",
          "data": {
            "text/plain": [
              "<Figure size 432x288 with 1 Axes>"
            ],
            "image/png": "[encoded data removed]"
          },
          "metadata": {
            "needs_background": "light"
          }
        }
      ]
    },
    {
      "cell_type": "code",
      "metadata": {
        "id": "IbopNxXLP3-k",
        "colab": {
          "base_uri": "https://localhost:8080/",
          "height": 295
        },
        "outputId": "a5659475-0634-4aa7-cd2e-fd37aa1a1258"
      },
      "source": [
        "plt.plot(np.arange(0,100,17),valid_accuracy_list)\n",
        "plt.title(\"Pytorch - #Epochs vs Valid Accuracy - MNIST\")\n",
        "plt.xlabel(\"Epochs\")\n",
        "plt.ylabel(\"Valid Accuracy\")\n",
        "plt.savefig(\"pytorch_valid_accuracy.pdf\")"
      ],
      "execution_count": 17,
      "outputs": [
        {
          "output_type": "display_data",
          "data": {
            "text/plain": [
              "<Figure size 432x288 with 1 Axes>"
            ],
            "image/png": "[encoded data removed]"
          },
          "metadata": {
            "needs_background": "light"
          }
        }
      ]
    },
    {
      "cell_type": "code",
      "metadata": {
        "id": "S72EvdZAP4EN",
        "colab": {
          "base_uri": "https://localhost:8080/",
          "height": 295
        },
        "outputId": "3047871a-0ea9-400c-9b96-3fe7ee0abebc"
      },
      "source": [
        "plt.plot(np.arange(0,len(train_loss_epoch_list)),train_accuracy_list)\n",
        "plt.title(\"Pytorch - #Epochs vs Train Accuracy - MNIST\")\n",
        "plt.xlabel(\"Epochs\")\n",
        "plt.ylabel(\"Train Accuracy\")\n",
        "plt.savefig(\"pytorch_train_accuracy.pdf\")"
      ],
      "execution_count": 18,
      "outputs": [
        {
          "output_type": "display_data",
          "data": {
            "text/plain": [
              "<Figure size 432x288 with 1 Axes>"
            ],
            "image/png": "[encoded data removed]"
          },
          "metadata": {
            "needs_background": "light"
          }
        }
      ]
    },
    {
      "cell_type": "markdown",
      "metadata": {
        "id": "O9GNli66qfEi"
      },
      "source": [
        "## Evaluate on Test Set"
      ]
    },
    {
      "cell_type": "code",
      "metadata": {
        "id": "dDSxo4S_P4KI"
      },
      "source": [
        "model.eval()  # prep model for evaluation\n",
        "total_test = 0\n",
        "total_test_correct = 0\n",
        "test_loss = 0.0\n",
        "\n",
        "for batch_idx, batch in enumerate(test_loader):\n",
        "    test_input, ground_truth = batch\n",
        "    test_input = test_input.cuda()\n",
        "    ground_truth = ground_truth.cuda()\n",
        "    \n",
        "    \n",
        "    output = model(test_input)\n",
        "    loss = criterion(output,ground_truth)\n",
        "    test_loss += loss.item() * input.size(0)\n",
        "    test_correct, test_size = compute_accuracy(output, ground_truth)\n",
        "    total_test_correct += test_correct\n",
        "    total_test += test_size\n",
        "    \n",
        "test_loss = test_loss/len(test_loader.dataset)\n",
        "test_accuracy = np.sum(total_test_correct) / np.sum(total_test)\n"
      ],
      "execution_count": 19,
      "outputs": []
    },
    {
      "cell_type": "code",
      "metadata": {
        "colab": {
          "base_uri": "https://localhost:8080/"
        },
        "id": "btu2Gws-RLb7",
        "outputId": "310a26f5-b3a6-441d-d87d-8401c6da0573"
      },
      "source": [
        "print(test_loss)"
      ],
      "execution_count": 20,
      "outputs": [
        {
          "output_type": "stream",
          "name": "stdout",
          "text": [
            "0.15781175110936166\n"
          ]
        }
      ]
    },
    {
      "cell_type": "code",
      "metadata": {
        "colab": {
          "base_uri": "https://localhost:8080/"
        },
        "id": "s9-zG-wtRNjS",
        "outputId": "102571b2-705c-42b5-a5bf-7a5d87e05d5d"
      },
      "source": [
        "print(test_accuracy)"
      ],
      "execution_count": 21,
      "outputs": [
        {
          "output_type": "stream",
          "name": "stdout",
          "text": [
            "0.9542\n"
          ]
        }
      ]
    },
    {
      "cell_type": "code",
      "metadata": {
        "id": "1FbgXmyRg-B0"
      },
      "source": [],
      "execution_count": null,
      "outputs": []
    },
    {
      "cell_type": "markdown",
      "metadata": {
        "id": "vvSksbO6g--T"
      },
      "source": [
        "#Initialize Weights to Zeros\n"
      ]
    },
    {
      "cell_type": "code",
      "metadata": {
        "id": "q7y8oxBGhDw9"
      },
      "source": [
        "def init_weights_zero(m):\n",
        "    if type(m) == nn.Linear:\n",
        "        torch.nn.init.constant_(m.weight.data,val=0.0)"
      ],
      "execution_count": 22,
      "outputs": []
    },
    {
      "cell_type": "code",
      "metadata": {
        "id": "oZqHaFQnhE1H"
      },
      "source": [
        "model = NeuralNetwork().cuda()\n",
        "model.apply(init_weights_zero)\n",
        "optimizer = optim.SGD(model.parameters(), lr=0.01)"
      ],
      "execution_count": 23,
      "outputs": []
    },
    {
      "cell_type": "code",
      "metadata": {
        "colab": {
          "base_uri": "https://localhost:8080/"
        },
        "id": "QEGlncM9hQ2D",
        "outputId": "4d7d6527-dbfd-4a4b-b2d4-f8d9cdd50874"
      },
      "source": [
        "print(model.fc1.weight.data)"
      ],
      "execution_count": 24,
      "outputs": [
        {
          "output_type": "stream",
          "name": "stdout",
          "text": [
            "tensor([[0., 0., 0.,  ..., 0., 0., 0.],\n",
            "        [0., 0., 0.,  ..., 0., 0., 0.],\n",
            "        [0., 0., 0.,  ..., 0., 0., 0.],\n",
            "        ...,\n",
            "        [0., 0., 0.,  ..., 0., 0., 0.],\n",
            "        [0., 0., 0.,  ..., 0., 0., 0.],\n",
            "        [0., 0., 0.,  ..., 0., 0., 0.]], device='cuda:0')\n"
          ]
        }
      ]
    },
    {
      "cell_type": "code",
      "metadata": {
        "colab": {
          "base_uri": "https://localhost:8080/"
        },
        "id": "khCE5u6thXDO",
        "outputId": "569aa373-6cfb-4396-dc9c-a28c297f8469"
      },
      "source": [
        "train_loss_list = []\n",
        "train_loss_epoch_list = []\n",
        "\n",
        "valid_loss_list = []\n",
        "valid_loss_epoch_list = []\n",
        "train_accuracy_list = []\n",
        "valid_accuracy_list = []\n",
        "\n",
        "for epoch in range(0, 30):\n",
        "    train_loss = 0.0\n",
        "    valid_loss = 0.0\n",
        "    criterion = nn.CrossEntropyLoss()\n",
        "    model.train()\n",
        "    total_train_correct = 0\n",
        "    total_train = 0\n",
        "    total_valid_correct = 0\n",
        "    total_valid = 0\n",
        "\n",
        "    for batch_idx, batch in enumerate(train_loader):\n",
        "        \n",
        "        input, ground_truth = batch\n",
        "        batch_size = input.size(0)\n",
        "        input = input.cuda()\n",
        "        ground_truth = ground_truth.cuda()\n",
        "        \n",
        "        optimizer.zero_grad()\n",
        "        output = model(input)\n",
        "        \n",
        "        \n",
        "        loss = criterion(output, ground_truth)\n",
        "        loss.backward()\n",
        "        optimizer.step()\n",
        "        train_loss += loss.item()*input.size(0)\n",
        "        train_correct, train_size = compute_accuracy(output, ground_truth)\n",
        "        total_train_correct += train_correct\n",
        "        total_train += train_size\n",
        "        train_loss_list.append(loss)\n",
        "\n",
        "    if epoch%5 == 0:\n",
        "      model.eval()  # prep model for evaluation\n",
        "      for batch_idx, batch in enumerate(valid_loader):\n",
        "          val_input, ground_truth = batch\n",
        "          val_input = val_input.cuda()\n",
        "          ground_truth = ground_truth.cuda()\n",
        "          \n",
        "          # forward pass: compute predicted outputs by passing inputs to the model\n",
        "          output = model(val_input)\n",
        "          # calculate the loss\n",
        "          loss = criterion(output,ground_truth)\n",
        "          # update running validation loss \n",
        "          valid_loss += loss.item() * input.size(0)\n",
        "          valid_correct, valid_size = compute_accuracy(output, ground_truth)\n",
        "          total_valid_correct += valid_correct\n",
        "          total_valid += valid_size\n",
        "          valid_loss_list.append(loss)\n",
        "      valid_loss = valid_loss/len(valid_loader.dataset)\n",
        "      valid_accuracy = np.sum(total_valid_correct) / np.sum(total_valid)\n",
        "      valid_loss_epoch_list.append(valid_loss)   \n",
        "      valid_accuracy_list.append(valid_accuracy)\n",
        "\n",
        "    \n",
        "\n",
        "    train_loss = train_loss/len(train_loader.dataset)\n",
        "    train_accuracy = np.sum(total_train_correct) / np.sum(total_train)\n",
        "    train_loss_epoch_list.append(train_loss)\n",
        "    train_accuracy_list.append(train_accuracy)\n",
        "    \n",
        "\n",
        "\n",
        "    print(\"********************************************************************\")\n",
        "    print(\"Epoch \"+str(epoch))\n",
        "    print(\"Train loss: \"+str(train_loss))\n",
        "    print(\"Train accuracy: \"+str(train_accuracy))\n",
        "    if epoch%5 == 0: \n",
        "      print(\"Valid loss: \"+str(valid_loss))\n",
        "      print(\"Valid Accuracy: \"+str(valid_accuracy))\n",
        "    \n",
        "    print(\"********************************************************************\")\n",
        "\n",
        "\n",
        "\n",
        "torch.save(model.state_dict(), \"mnist_zero.pt\")"
      ],
      "execution_count": 26,
      "outputs": [
        {
          "output_type": "stream",
          "name": "stdout",
          "text": [
            "********************************************************************\n",
            "Epoch 0\n",
            "Train loss: 1.8420679092407226\n",
            "Train accuracy: 0.09835416666666667\n",
            "Valid loss: 0.4617450225830078\n",
            "Valid Accuracy: 0.10016666666666667\n",
            "********************************************************************\n",
            "********************************************************************\n",
            "Epoch 1\n",
            "Train loss: 1.8420679092407226\n",
            "Train accuracy: 0.09835416666666667\n",
            "********************************************************************\n",
            "********************************************************************\n",
            "Epoch 2\n",
            "Train loss: 1.8420679092407226\n",
            "Train accuracy: 0.09835416666666667\n",
            "********************************************************************\n",
            "********************************************************************\n",
            "Epoch 3\n",
            "Train loss: 1.8420679092407226\n",
            "Train accuracy: 0.09835416666666667\n",
            "********************************************************************\n",
            "********************************************************************\n",
            "Epoch 4\n",
            "Train loss: 1.8420679092407226\n",
            "Train accuracy: 0.09835416666666667\n",
            "********************************************************************\n",
            "********************************************************************\n",
            "Epoch 5\n",
            "Train loss: 1.8420679092407226\n",
            "Train accuracy: 0.09835416666666667\n",
            "Valid loss: 0.4617450225830078\n",
            "Valid Accuracy: 0.10016666666666667\n",
            "********************************************************************\n",
            "********************************************************************\n",
            "Epoch 6\n",
            "Train loss: 1.8420679092407226\n",
            "Train accuracy: 0.09835416666666667\n",
            "********************************************************************\n",
            "********************************************************************\n",
            "Epoch 7\n",
            "Train loss: 1.8420679092407226\n",
            "Train accuracy: 0.09835416666666667\n",
            "********************************************************************\n",
            "********************************************************************\n",
            "Epoch 8\n",
            "Train loss: 1.8420679092407226\n",
            "Train accuracy: 0.09835416666666667\n",
            "********************************************************************\n",
            "********************************************************************\n",
            "Epoch 9\n",
            "Train loss: 1.8420679092407226\n",
            "Train accuracy: 0.09835416666666667\n",
            "********************************************************************\n",
            "********************************************************************\n",
            "Epoch 10\n",
            "Train loss: 1.8420679092407226\n",
            "Train accuracy: 0.09835416666666667\n",
            "Valid loss: 0.4617450225830078\n",
            "Valid Accuracy: 0.10016666666666667\n",
            "********************************************************************\n",
            "********************************************************************\n",
            "Epoch 11\n",
            "Train loss: 1.8420679092407226\n",
            "Train accuracy: 0.09835416666666667\n",
            "********************************************************************\n",
            "********************************************************************\n",
            "Epoch 12\n",
            "Train loss: 1.8420679092407226\n",
            "Train accuracy: 0.09835416666666667\n",
            "********************************************************************\n",
            "********************************************************************\n",
            "Epoch 13\n",
            "Train loss: 1.8420679092407226\n",
            "Train accuracy: 0.09835416666666667\n",
            "********************************************************************\n",
            "********************************************************************\n",
            "Epoch 14\n",
            "Train loss: 1.8420679092407226\n",
            "Train accuracy: 0.09835416666666667\n",
            "********************************************************************\n",
            "********************************************************************\n",
            "Epoch 15\n",
            "Train loss: 1.8420679092407226\n",
            "Train accuracy: 0.09835416666666667\n",
            "Valid loss: 0.4617450225830078\n",
            "Valid Accuracy: 0.10016666666666667\n",
            "********************************************************************\n",
            "********************************************************************\n",
            "Epoch 16\n",
            "Train loss: 1.8420679092407226\n",
            "Train accuracy: 0.09835416666666667\n",
            "********************************************************************\n",
            "********************************************************************\n",
            "Epoch 17\n",
            "Train loss: 1.8420679092407226\n",
            "Train accuracy: 0.09835416666666667\n",
            "********************************************************************\n",
            "********************************************************************\n",
            "Epoch 18\n",
            "Train loss: 1.8420679092407226\n",
            "Train accuracy: 0.09835416666666667\n",
            "********************************************************************\n",
            "********************************************************************\n",
            "Epoch 19\n",
            "Train loss: 1.8420679092407226\n",
            "Train accuracy: 0.09835416666666667\n",
            "********************************************************************\n",
            "********************************************************************\n",
            "Epoch 20\n",
            "Train loss: 1.8420679092407226\n",
            "Train accuracy: 0.09835416666666667\n",
            "Valid loss: 0.4617450225830078\n",
            "Valid Accuracy: 0.10016666666666667\n",
            "********************************************************************\n",
            "********************************************************************\n",
            "Epoch 21\n",
            "Train loss: 1.8420679092407226\n",
            "Train accuracy: 0.09835416666666667\n",
            "********************************************************************\n",
            "********************************************************************\n",
            "Epoch 22\n",
            "Train loss: 1.8420679092407226\n",
            "Train accuracy: 0.09835416666666667\n",
            "********************************************************************\n",
            "********************************************************************\n",
            "Epoch 23\n",
            "Train loss: 1.8420679092407226\n",
            "Train accuracy: 0.09835416666666667\n",
            "********************************************************************\n",
            "********************************************************************\n",
            "Epoch 24\n",
            "Train loss: 1.8420679092407226\n",
            "Train accuracy: 0.09835416666666667\n",
            "********************************************************************\n",
            "********************************************************************\n",
            "Epoch 25\n",
            "Train loss: 1.8420679092407226\n",
            "Train accuracy: 0.09835416666666667\n",
            "Valid loss: 0.4617450225830078\n",
            "Valid Accuracy: 0.10016666666666667\n",
            "********************************************************************\n",
            "********************************************************************\n",
            "Epoch 26\n",
            "Train loss: 1.8420679092407226\n",
            "Train accuracy: 0.09835416666666667\n",
            "********************************************************************\n",
            "********************************************************************\n",
            "Epoch 27\n",
            "Train loss: 1.8420679092407226\n",
            "Train accuracy: 0.09835416666666667\n",
            "********************************************************************\n",
            "********************************************************************\n",
            "Epoch 28\n",
            "Train loss: 1.8420679092407226\n",
            "Train accuracy: 0.09835416666666667\n",
            "********************************************************************\n",
            "********************************************************************\n",
            "Epoch 29\n",
            "Train loss: 1.8420679092407226\n",
            "Train accuracy: 0.09835416666666667\n",
            "********************************************************************\n"
          ]
        }
      ]
    },
    {
      "cell_type": "code",
      "metadata": {
        "colab": {
          "base_uri": "https://localhost:8080/",
          "height": 295
        },
        "id": "0UbXoZEZhxzv",
        "outputId": "e92a0e6c-b05e-439a-e78a-97adc6fa44fb"
      },
      "source": [
        "plt.plot(np.arange(0,len(train_loss_epoch_list)),train_loss_epoch_list)\n",
        "plt.title(\"Pytorch - #Epochs vs Train Loss - MNIST\")\n",
        "plt.xlabel(\"Epochs\")\n",
        "plt.ylabel(\"Train Loss\")\n",
        "\n",
        "plt.savefig(\"pytorch_zero_train_loss.pdf\")"
      ],
      "execution_count": 27,
      "outputs": [
        {
          "output_type": "display_data",
          "data": {
            "text/plain": [
              "<Figure size 432x288 with 1 Axes>"
            ],
            "image/png": "[encoded data removed]"
          },
          "metadata": {
            "needs_background": "light"
          }
        }
      ]
    },
    {
      "cell_type": "code",
      "metadata": {
        "colab": {
          "base_uri": "https://localhost:8080/",
          "height": 295
        },
        "id": "H3T3Rjwzhxzx",
        "outputId": "ec57ebea-07a9-490b-b791-7117e81901fa"
      },
      "source": [
        "plt.plot(np.arange(0,100,17),valid_accuracy_list)\n",
        "plt.title(\"Pytorch - #Epochs vs Valid Accuracy - MNIST\")\n",
        "plt.xlabel(\"Epochs\")\n",
        "plt.ylabel(\"Valid Accuracy\")\n",
        "plt.savefig(\"pytorch_zero_valid_accuracy.pdf\")"
      ],
      "execution_count": 30,
      "outputs": [
        {
          "output_type": "display_data",
          "data": {
            "text/plain": [
              "<Figure size 432x288 with 1 Axes>"
            ],
            "image/png": "[encoded data removed]"
          },
          "metadata": {
            "needs_background": "light"
          }
        }
      ]
    },
    {
      "cell_type": "code",
      "metadata": {
        "colab": {
          "base_uri": "https://localhost:8080/",
          "height": 295
        },
        "id": "bb0R4zkqhxzx",
        "outputId": "d646e137-f155-4070-87d5-3c48fddb7aed"
      },
      "source": [
        "plt.plot(np.arange(0,30),train_accuracy_list)\n",
        "plt.title(\"Pytorch - #Epochs vs Train Accuracy - MNIST\")\n",
        "plt.xlabel(\"Epochs\")\n",
        "plt.ylabel(\"Train Accuracy\")\n",
        "plt.savefig(\"pytorch_zero_train_accuracy.pdf\")"
      ],
      "execution_count": 32,
      "outputs": [
        {
          "output_type": "display_data",
          "data": {
            "text/plain": [
              "<Figure size 432x288 with 1 Axes>"
            ],
            "image/png": "[encoded data removed]"
          },
          "metadata": {
            "needs_background": "light"
          }
        }
      ]
    },
    {
      "cell_type": "code",
      "metadata": {
        "id": "EpN_ylluh_Ho"
      },
      "source": [
        "model.eval()  # prep model for evaluation\n",
        "total_test = 0\n",
        "total_test_correct = 0\n",
        "test_loss = 0.0\n",
        "\n",
        "for batch_idx, batch in enumerate(test_loader):\n",
        "    test_input, ground_truth = batch\n",
        "    test_input = test_input.cuda()\n",
        "    ground_truth = ground_truth.cuda()\n",
        "    \n",
        "    # forward pass: compute predicted outputs by passing inputs to the model\n",
        "    output = model(test_input)\n",
        "    # calculate the loss\n",
        "    loss = criterion(output,ground_truth)\n",
        "    # update running validation loss \n",
        "    test_loss += loss.item() * input.size(0)\n",
        "    test_correct, test_size = compute_accuracy(output, ground_truth)\n",
        "    total_test_correct += test_correct\n",
        "    total_test += test_size\n",
        "    \n",
        "test_loss = test_loss/len(test_loader.dataset)\n",
        "test_accuracy = np.sum(total_test_correct) / np.sum(total_test)\n"
      ],
      "execution_count": 33,
      "outputs": []
    },
    {
      "cell_type": "code",
      "metadata": {
        "colab": {
          "base_uri": "https://localhost:8080/"
        },
        "id": "SnLQ0lm3pfdA",
        "outputId": "ff3c74a8-fa5a-4d03-e3c8-ed0ba5798b41"
      },
      "source": [
        "print(test_loss)"
      ],
      "execution_count": 34,
      "outputs": [
        {
          "output_type": "stream",
          "name": "stdout",
          "text": [
            "2.3136372970581056\n"
          ]
        }
      ]
    },
    {
      "cell_type": "code",
      "metadata": {
        "colab": {
          "base_uri": "https://localhost:8080/"
        },
        "id": "xJB_rxftphNy",
        "outputId": "f1815cd6-49eb-4816-91fd-d3dbf7524fa4"
      },
      "source": [
        "print(test_accuracy)"
      ],
      "execution_count": 35,
      "outputs": [
        {
          "output_type": "stream",
          "name": "stdout",
          "text": [
            "0.098\n"
          ]
        }
      ]
    },
    {
      "cell_type": "markdown",
      "metadata": {
        "id": "iw2qqU-EiGqT"
      },
      "source": [
        "#Initialize weights Randomly between -1 and 1"
      ]
    },
    {
      "cell_type": "code",
      "metadata": {
        "id": "gGHWEiMmiR5_"
      },
      "source": [],
      "execution_count": 36,
      "outputs": []
    },
    {
      "cell_type": "code",
      "metadata": {
        "id": "ay4WY6iKiSMs"
      },
      "source": [
        "def init_weights_zero(m):\n",
        "    if type(m) == nn.Linear:\n",
        "        m.weight.data.uniform_(-1,1)\n",
        "        "
      ],
      "execution_count": 37,
      "outputs": []
    },
    {
      "cell_type": "code",
      "metadata": {
        "id": "rgN9osuqiSMt"
      },
      "source": [
        "model = NeuralNetwork().cuda()\n",
        "model.apply(init_weights_zero)\n",
        "optimizer = optim.SGD(model.parameters(), lr=0.01)"
      ],
      "execution_count": 38,
      "outputs": []
    },
    {
      "cell_type": "code",
      "metadata": {
        "colab": {
          "base_uri": "https://localhost:8080/"
        },
        "id": "Rd_VCHaJiSMt",
        "outputId": "7ad60c78-8330-4b88-c8ab-161516668800"
      },
      "source": [
        "print(model.fc1.weight.data)"
      ],
      "execution_count": 39,
      "outputs": [
        {
          "output_type": "stream",
          "name": "stdout",
          "text": [
            "tensor([[-0.4524,  0.3183,  0.4898,  ..., -0.7881,  0.2775,  0.2531],\n",
            "        [ 0.5349, -0.5030,  0.1148,  ..., -0.0783,  0.3183, -0.1846],\n",
            "        [-0.1632, -0.4170,  0.2191,  ..., -0.2495, -0.6436,  0.4796],\n",
            "        ...,\n",
            "        [-0.5019,  0.4783,  0.1737,  ...,  0.2497,  0.8971,  0.0754],\n",
            "        [-0.0470, -0.4230, -0.5611,  ...,  0.5602,  0.2503, -0.8188],\n",
            "        [ 0.2053, -0.8059, -0.2310,  ...,  0.8618, -0.9209,  0.6858]],\n",
            "       device='cuda:0')\n"
          ]
        }
      ]
    },
    {
      "cell_type": "code",
      "metadata": {
        "id": "PpTEU7IAiSMu",
        "colab": {
          "base_uri": "https://localhost:8080/"
        },
        "outputId": "46c6fb19-aaa7-492c-fd30-3b1f9be12424"
      },
      "source": [
        "train_loss_list = []\n",
        "train_loss_epoch_list = []\n",
        "\n",
        "valid_loss_list = []\n",
        "valid_loss_epoch_list = []\n",
        "train_accuracy_list = []\n",
        "valid_accuracy_list = []\n",
        "\n",
        "for epoch in range(0, 30):\n",
        "    train_loss = 0.0\n",
        "    valid_loss = 0.0\n",
        "    criterion = nn.CrossEntropyLoss()\n",
        "    model.train()\n",
        "    total_train_correct = 0\n",
        "    total_train = 0\n",
        "    total_valid_correct = 0\n",
        "    total_valid = 0\n",
        "\n",
        "    for batch_idx, batch in enumerate(train_loader):\n",
        "        \n",
        "        input, ground_truth = batch\n",
        "        batch_size = input.size(0)\n",
        "        input = input.cuda()\n",
        "        ground_truth = ground_truth.cuda()\n",
        "        \n",
        "        optimizer.zero_grad()\n",
        "        output = model(input)\n",
        "        \n",
        "        \n",
        "        loss = criterion(output, ground_truth)\n",
        "        loss.backward()\n",
        "        optimizer.step()\n",
        "        train_loss += loss.item()*input.size(0)\n",
        "        train_correct, train_size = compute_accuracy(output, ground_truth)\n",
        "        total_train_correct += train_correct\n",
        "        total_train += train_size\n",
        "        train_loss_list.append(loss)\n",
        "\n",
        "    if epoch%5 == 0:\n",
        "      model.eval()  # prep model for evaluation\n",
        "      for batch_idx, batch in enumerate(valid_loader):\n",
        "          val_input, ground_truth = batch\n",
        "          val_input = val_input.cuda()\n",
        "          ground_truth = ground_truth.cuda()\n",
        "          \n",
        "          # forward pass: compute predicted outputs by passing inputs to the model\n",
        "          output = model(val_input)\n",
        "          # calculate the loss\n",
        "          loss = criterion(output,ground_truth)\n",
        "          # update running validation loss \n",
        "          valid_loss += loss.item() * input.size(0)\n",
        "          valid_correct, valid_size = compute_accuracy(output, ground_truth)\n",
        "          total_valid_correct += valid_correct\n",
        "          total_valid += valid_size\n",
        "          valid_loss_list.append(loss)\n",
        "      valid_loss = valid_loss/len(valid_loader.dataset)\n",
        "      valid_accuracy = np.sum(total_valid_correct) / np.sum(total_valid)\n",
        "      valid_loss_epoch_list.append(valid_loss)   \n",
        "      valid_accuracy_list.append(valid_accuracy)\n",
        "\n",
        "    \n",
        "\n",
        "    train_loss = train_loss/len(train_loader.dataset)\n",
        "    train_accuracy = np.sum(total_train_correct) / np.sum(total_train)\n",
        "    train_loss_epoch_list.append(train_loss)\n",
        "    train_accuracy_list.append(train_accuracy)\n",
        "    \n",
        "\n",
        "\n",
        "    print(\"********************************************************************\")\n",
        "    print(\"Epoch \"+str(epoch))\n",
        "    print(\"Train loss: \"+str(train_loss))\n",
        "    print(\"Train accuracy: \"+str(train_accuracy))\n",
        "    if epoch%5 == 0: \n",
        "      print(\"Valid loss: \"+str(valid_loss))\n",
        "      print(\"Valid Accuracy: \"+str(valid_accuracy))\n",
        "    \n",
        "    print(\"********************************************************************\")\n",
        "\n",
        "\n",
        "\n",
        "torch.save(model.state_dict(), \"mnist_random.pt\")"
      ],
      "execution_count": 40,
      "outputs": [
        {
          "output_type": "stream",
          "name": "stdout",
          "text": [
            "********************************************************************\n",
            "Epoch 0\n",
            "Train loss: 5.862277214813233\n",
            "Train accuracy: 0.7318125\n",
            "Valid loss: 0.6669125602722168\n",
            "Valid Accuracy: 0.8364166666666667\n",
            "********************************************************************\n",
            "********************************************************************\n",
            "Epoch 1\n",
            "Train loss: 2.124924057976405\n",
            "Train accuracy: 0.8557083333333333\n",
            "********************************************************************\n",
            "********************************************************************\n",
            "Epoch 2\n",
            "Train loss: 1.4661830997327963\n",
            "Train accuracy: 0.88025\n",
            "********************************************************************\n",
            "********************************************************************\n",
            "Epoch 3\n",
            "Train loss: 1.1250264423290888\n",
            "Train accuracy: 0.8950208333333334\n",
            "********************************************************************\n",
            "********************************************************************\n",
            "Epoch 4\n",
            "Train loss: 0.9075602598298651\n",
            "Train accuracy: 0.9035416666666667\n",
            "********************************************************************\n",
            "********************************************************************\n",
            "Epoch 5\n",
            "Train loss: 0.7597202055310209\n",
            "Train accuracy: 0.9106458333333334\n",
            "Valid loss: 0.28365194493929546\n",
            "Valid Accuracy: 0.8865\n",
            "********************************************************************\n",
            "********************************************************************\n",
            "Epoch 6\n",
            "Train loss: 0.6483533758163452\n",
            "Train accuracy: 0.917625\n",
            "********************************************************************\n",
            "********************************************************************\n",
            "Epoch 7\n",
            "Train loss: 0.5649221973446509\n",
            "Train accuracy: 0.922375\n",
            "********************************************************************\n",
            "********************************************************************\n",
            "Epoch 8\n",
            "Train loss: 0.4950194415311019\n",
            "Train accuracy: 0.9252083333333333\n",
            "********************************************************************\n",
            "********************************************************************\n",
            "Epoch 9\n",
            "Train loss: 0.438751108712703\n",
            "Train accuracy: 0.9306875\n",
            "********************************************************************\n",
            "********************************************************************\n",
            "Epoch 10\n",
            "Train loss: 0.39151123306937513\n",
            "Train accuracy: 0.9345208333333334\n",
            "Valid loss: 0.2287993653615316\n",
            "Valid Accuracy: 0.89275\n",
            "********************************************************************\n",
            "********************************************************************\n",
            "Epoch 11\n",
            "Train loss: 0.35559245889633895\n",
            "Train accuracy: 0.9377291666666666\n",
            "********************************************************************\n",
            "********************************************************************\n",
            "Epoch 12\n",
            "Train loss: 0.3233675810928146\n",
            "Train accuracy: 0.9408541666666667\n",
            "********************************************************************\n",
            "********************************************************************\n",
            "Epoch 13\n",
            "Train loss: 0.2961520419092849\n",
            "Train accuracy: 0.9422916666666666\n",
            "********************************************************************\n",
            "********************************************************************\n",
            "Epoch 14\n",
            "Train loss: 0.27352731377581757\n",
            "Train accuracy: 0.94425\n",
            "********************************************************************\n",
            "********************************************************************\n",
            "Epoch 15\n",
            "Train loss: 0.2511320353388786\n",
            "Train accuracy: 0.9475416666666666\n",
            "Valid loss: 0.18832773745457332\n",
            "Valid Accuracy: 0.8998333333333334\n",
            "********************************************************************\n",
            "********************************************************************\n",
            "Epoch 16\n",
            "Train loss: 0.23344669089963038\n",
            "Train accuracy: 0.9483125\n",
            "********************************************************************\n",
            "********************************************************************\n",
            "Epoch 17\n",
            "Train loss: 0.21896740557874242\n",
            "Train accuracy: 0.9504375\n",
            "********************************************************************\n",
            "********************************************************************\n",
            "Epoch 18\n",
            "Train loss: 0.201572510978207\n",
            "Train accuracy: 0.9534791666666667\n",
            "********************************************************************\n",
            "********************************************************************\n",
            "Epoch 19\n",
            "Train loss: 0.18982752140909434\n",
            "Train accuracy: 0.9554375\n",
            "********************************************************************\n",
            "********************************************************************\n",
            "Epoch 20\n",
            "Train loss: 0.17526595778502524\n",
            "Train accuracy: 0.9578958333333333\n",
            "Valid loss: 0.1745245470404625\n",
            "Valid Accuracy: 0.9013333333333333\n",
            "********************************************************************\n",
            "********************************************************************\n",
            "Epoch 21\n",
            "Train loss: 0.1658705720660587\n",
            "Train accuracy: 0.95875\n",
            "********************************************************************\n",
            "********************************************************************\n",
            "Epoch 22\n",
            "Train loss: 0.15537196537752945\n",
            "Train accuracy: 0.9613125\n",
            "********************************************************************\n",
            "********************************************************************\n",
            "Epoch 23\n",
            "Train loss: 0.14531271471381188\n",
            "Train accuracy: 0.9618333333333333\n",
            "********************************************************************\n",
            "********************************************************************\n",
            "Epoch 24\n",
            "Train loss: 0.13774159848839043\n",
            "Train accuracy: 0.9641458333333334\n",
            "********************************************************************\n",
            "********************************************************************\n",
            "Epoch 25\n",
            "Train loss: 0.12876533171230306\n",
            "Train accuracy: 0.9653541666666666\n",
            "Valid loss: 0.16501281212170918\n",
            "Valid Accuracy: 0.904\n",
            "********************************************************************\n",
            "********************************************************************\n",
            "Epoch 26\n",
            "Train loss: 0.12284665267417828\n",
            "Train accuracy: 0.9658125\n",
            "********************************************************************\n",
            "********************************************************************\n",
            "Epoch 27\n",
            "Train loss: 0.11609911005397637\n",
            "Train accuracy: 0.9672916666666667\n",
            "********************************************************************\n",
            "********************************************************************\n",
            "Epoch 28\n",
            "Train loss: 0.11152196594110379\n",
            "Train accuracy: 0.9682916666666667\n",
            "********************************************************************\n",
            "********************************************************************\n",
            "Epoch 29\n",
            "Train loss: 0.10369116428941488\n",
            "Train accuracy: 0.9715\n",
            "********************************************************************\n"
          ]
        }
      ]
    },
    {
      "cell_type": "code",
      "metadata": {
        "id": "RsT4tLxNiSMw",
        "colab": {
          "base_uri": "https://localhost:8080/",
          "height": 295
        },
        "outputId": "01dea768-e931-4a8f-ec1c-e5a4fc5a7a92"
      },
      "source": [
        "plt.plot(np.arange(0,len(train_loss_epoch_list)),train_loss_epoch_list)\n",
        "plt.title(\"Pytorch - #Epochs vs Train Loss - MNIST\")\n",
        "plt.xlabel(\"Epochs\")\n",
        "plt.ylabel(\"Train Loss\")\n",
        "plt.savefig(\"pytorch_random_train_loss.pdf\")"
      ],
      "execution_count": 41,
      "outputs": [
        {
          "output_type": "display_data",
          "data": {
            "text/plain": [
              "<Figure size 432x288 with 1 Axes>"
            ],
            "image/png": "[encoded data removed]"
          },
          "metadata": {
            "needs_background": "light"
          }
        }
      ]
    },
    {
      "cell_type": "code",
      "metadata": {
        "id": "4akO8Kc1iSMw",
        "colab": {
          "base_uri": "https://localhost:8080/",
          "height": 295
        },
        "outputId": "63f01e35-5fd8-4fa3-e062-ab662fa47e31"
      },
      "source": [
        "plt.plot(np.arange(0,100,17),valid_loss_epoch_list)\n",
        "plt.title(\"Pytorch - #Epochs vs Valid Loss - MNIST\")\n",
        "plt.xlabel(\"Epochs\")\n",
        "plt.ylabel(\"Valid Loss\")\n",
        "plt.savefig(\"pytorch_random_val_loss.pdf\")"
      ],
      "execution_count": 45,
      "outputs": [
        {
          "output_type": "display_data",
          "data": {
            "text/plain": [
              "<Figure size 432x288 with 1 Axes>"
            ],
            "image/png": "[encoded data removed]"
          },
          "metadata": {
            "needs_background": "light"
          }
        }
      ]
    },
    {
      "cell_type": "code",
      "metadata": {
        "id": "bFQJ8LMdiSMw",
        "colab": {
          "base_uri": "https://localhost:8080/",
          "height": 295
        },
        "outputId": "9c34b2b8-a873-41fc-f480-77c23c515190"
      },
      "source": [
        "plt.plot(np.arange(0,100,17),valid_accuracy_list)\n",
        "plt.title(\"Pytorch - #Epochs vs Valid Accuracy - MNIST\")\n",
        "plt.xlabel(\"Epochs\")\n",
        "plt.ylabel(\"Valid Accuracy\")\n",
        "plt.savefig(\"pytorch_random_valid_accuracy.pdf\")"
      ],
      "execution_count": 46,
      "outputs": [
        {
          "output_type": "display_data",
          "data": {
            "text/plain": [
              "<Figure size 432x288 with 1 Axes>"
            ],
            "image/png": "[encoded data removed]"
          },
          "metadata": {
            "needs_background": "light"
          }
        }
      ]
    },
    {
      "cell_type": "code",
      "metadata": {
        "id": "PZSi9xlQiSMx",
        "colab": {
          "base_uri": "https://localhost:8080/",
          "height": 295
        },
        "outputId": "39cab921-2803-466e-bb77-554e8a5bae1e"
      },
      "source": [
        "plt.plot(np.arange(0,30),train_accuracy_list)\n",
        "plt.title(\"Pytorch - #Epochs vs Train Accuracy - MNIST\")\n",
        "plt.xlabel(\"Epochs\")\n",
        "plt.ylabel(\"Train Accuracy\")\n",
        "plt.savefig(\"pytorch_random_train_accuracy.pdf\")"
      ],
      "execution_count": 49,
      "outputs": [
        {
          "output_type": "display_data",
          "data": {
            "text/plain": [
              "<Figure size 432x288 with 1 Axes>"
            ],
            "image/png": "[encoded data removed]"
          },
          "metadata": {
            "needs_background": "light"
          }
        }
      ]
    },
    {
      "cell_type": "code",
      "metadata": {
        "id": "b26GWwVzis6H"
      },
      "source": [
        "model.eval()  # prep model for evaluation\n",
        "total_test = 0\n",
        "total_test_correct = 0\n",
        "test_loss = 0.0\n",
        "\n",
        "for batch_idx, batch in enumerate(test_loader):\n",
        "    test_input, ground_truth = batch\n",
        "    test_input = test_input.cuda()\n",
        "    ground_truth = ground_truth.cuda()\n",
        "    \n",
        "    # forward pass: compute predicted outputs by passing inputs to the model\n",
        "    output = model(test_input)\n",
        "    # calculate the loss\n",
        "    loss = criterion(output,ground_truth)\n",
        "    # update running validation loss \n",
        "    test_loss += loss.item() * input.size(0)\n",
        "    test_correct, test_size = compute_accuracy(output, ground_truth)\n",
        "    total_test_correct += test_correct\n",
        "    total_test += test_size\n",
        "    \n",
        "test_loss = test_loss/len(test_loader.dataset)\n",
        "test_accuracy = np.sum(total_test_correct) / np.sum(total_test)\n"
      ],
      "execution_count": 56,
      "outputs": []
    },
    {
      "cell_type": "code",
      "source": [
        "print(test_loss)"
      ],
      "metadata": {
        "colab": {
          "base_uri": "https://localhost:8080/"
        },
        "id": "S4kfjmt4nLaF",
        "outputId": "2e849993-4593-42a5-8c46-82aa1c3177a2"
      },
      "execution_count": 57,
      "outputs": [
        {
          "output_type": "stream",
          "name": "stdout",
          "text": [
            "0.7991937242200831\n"
          ]
        }
      ]
    },
    {
      "cell_type": "code",
      "source": [
        "print(test_accuracy)"
      ],
      "metadata": {
        "colab": {
          "base_uri": "https://localhost:8080/"
        },
        "id": "9fJerLQjnNs4",
        "outputId": "c2734d39-90db-4a76-b587-3d94e7c84e56"
      },
      "execution_count": 58,
      "outputs": [
        {
          "output_type": "stream",
          "name": "stdout",
          "text": [
            "0.9041\n"
          ]
        }
      ]
    },
    {
      "cell_type": "code",
      "source": [],
      "metadata": {
        "id": "qO2ma_GnnPx3"
      },
      "execution_count": null,
      "outputs": []
    }
  ]
}